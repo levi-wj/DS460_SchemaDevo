{
 "cells": [
  {
   "cell_type": "code",
   "execution_count": 0,
   "metadata": {
    "application/vnd.databricks.v1+cell": {
     "cellMetadata": {
      "byteLimit": 2048000,
      "rowLimit": 10000
     },
     "inputWidgets": {},
     "nuid": "e3502466-b298-4239-9711-d21c2230bb15",
     "showTitle": false,
     "tableResultSettingsMap": {},
     "title": ""
    }
   },
   "outputs": [
    {
     "output_type": "stream",
     "name": "stdout",
     "output_type": "stream",
     "text": [
      "Collecting census\r\n  Downloading census-0.8.23-py3-none-any.whl (11 kB)\r\nRequirement already satisfied: requests>=1.1.0 in /databricks/python3/lib/python3.10/site-packages (from census) (2.28.1)\r\nRequirement already satisfied: idna<4,>=2.5 in /databricks/python3/lib/python3.10/site-packages (from requests>=1.1.0->census) (3.3)\r\nRequirement already satisfied: urllib3<1.27,>=1.21.1 in /databricks/python3/lib/python3.10/site-packages (from requests>=1.1.0->census) (1.26.11)\r\nRequirement already satisfied: certifi>=2017.4.17 in /databricks/python3/lib/python3.10/site-packages (from requests>=1.1.0->census) (2022.9.14)\r\nRequirement already satisfied: charset-normalizer<3,>=2 in /databricks/python3/lib/python3.10/site-packages (from requests>=1.1.0->census) (2.0.4)\r\nInstalling collected packages: census\r\nSuccessfully installed census-0.8.23\r\n\r\n\u001B[1m[\u001B[0m\u001B[34;49mnotice\u001B[0m\u001B[1;39;49m]\u001B[0m\u001B[39;49m A new release of pip available: \u001B[0m\u001B[31;49m22.2.2\u001B[0m\u001B[39;49m -> \u001B[0m\u001B[32;49m25.0.1\u001B[0m\r\n\u001B[1m[\u001B[0m\u001B[34;49mnotice\u001B[0m\u001B[1;39;49m]\u001B[0m\u001B[39;49m To update, run: \u001B[0m\u001B[32;49mpip install --upgrade pip\u001B[0m\r\nCollecting us\r\n  Downloading us-3.2.0-py3-none-any.whl (13 kB)\r\nCollecting jellyfish\r\n  Downloading jellyfish-1.1.3-cp310-cp310-manylinux_2_17_x86_64.manylinux2014_x86_64.whl (347 kB)\r\n\u001B[?25l     \u001B[90m━━━━━━━━━━━━━━━━━━━━━━━━━━━━━━━━━━━━━━━━\u001B[0m \u001B[32m0.0/347.4 kB\u001B[0m \u001B[31m?\u001B[0m eta \u001B[36m-:--:--\u001B[0m\r\u001B[2K     \u001B[91m━━━━━━━━━━━━━━━━━━━\u001B[0m\u001B[91m╸\u001B[0m\u001B[90m━━━━━━━━━━━━━━━━━━━\u001B[0m \u001B[32m174.1/347.4 kB\u001B[0m \u001B[31m5.6 MB/s\u001B[0m eta \u001B[36m0:00:01\u001B[0m\r\u001B[2K     \u001B[90m━━━━━━━━━━━━━━━━━━━━━━━━━━━━━━━━━━━━━━━\u001B[0m \u001B[32m347.4/347.4 kB\u001B[0m \u001B[31m6.4 MB/s\u001B[0m eta \u001B[36m0:00:00\u001B[0m\r\n\u001B[?25hInstalling collected packages: jellyfish, us\r\nSuccessfully installed jellyfish-1.1.3 us-3.2.0\r\n\r\n\u001B[1m[\u001B[0m\u001B[34;49mnotice\u001B[0m\u001B[1;39;49m]\u001B[0m\u001B[39;49m A new release of pip available: \u001B[0m\u001B[31;49m22.2.2\u001B[0m\u001B[39;49m -> \u001B[0m\u001B[32;49m25.0.1\u001B[0m\r\n\u001B[1m[\u001B[0m\u001B[34;49mnotice\u001B[0m\u001B[1;39;49m]\u001B[0m\u001B[39;49m To update, run: \u001B[0m\u001B[32;49mpip install --upgrade pip\u001B[0m\r\n"
     ]
    }
   ],
   "source": [
    "!pip install census\n",
    "!pip install us"
   ]
  },
  {
   "cell_type": "code",
   "execution_count": 0,
   "metadata": {
    "application/vnd.databricks.v1+cell": {
     "cellMetadata": {
      "byteLimit": 2048000,
      "rowLimit": 10000
     },
     "inputWidgets": {},
     "nuid": "c9bcf9c0-33bc-455f-b694-a23c1af65c7b",
     "showTitle": false,
     "tableResultSettingsMap": {},
     "title": ""
    }
   },
   "outputs": [],
   "source": [
    "from census import Census\n",
    "from us import states\n",
    "from pyspark.sql.types import *"
   ]
  },
  {
   "cell_type": "code",
   "execution_count": 0,
   "metadata": {
    "application/vnd.databricks.v1+cell": {
     "cellMetadata": {
      "byteLimit": 2048000,
      "rowLimit": 10000
     },
     "inputWidgets": {},
     "nuid": "b3c4a602-964b-4606-b6c1-592676e2aebd",
     "showTitle": false,
     "tableResultSettingsMap": {},
     "title": ""
    }
   },
   "outputs": [],
   "source": [
    "# Variables: https://api.census.gov/data/2020/acs/acs5/variables.html\n",
    "c = Census('cc5fcc45a6ba3290f753f8a5a3a6b494551ba417', year=2020)"
   ]
  },
  {
   "cell_type": "code",
   "execution_count": 0,
   "metadata": {
    "application/vnd.databricks.v1+cell": {
     "cellMetadata": {
      "byteLimit": 2048000,
      "rowLimit": 10000
     },
     "inputWidgets": {},
     "nuid": "c6e4b68a-3d85-46d3-9a1f-c97ed996b865",
     "showTitle": false,
     "tableResultSettingsMap": {},
     "title": ""
    }
   },
   "outputs": [],
   "source": [
    "id_census = c.acs5.state_county_tract(\n",
    "    fields = ('NAME', 'C17002_001E', 'C17002_002E', 'C17002_003E', 'B01003_001E'),\n",
    "    state_fips = states.ID.fips,\n",
    "    county_fips = \"*\",\n",
    "    tract = \"*\",\n",
    "    year = 2020)"
   ]
  },
  {
   "cell_type": "code",
   "execution_count": 0,
   "metadata": {
    "application/vnd.databricks.v1+cell": {
     "cellMetadata": {
      "byteLimit": 2048000,
      "rowLimit": 10000
     },
     "collapsed": true,
     "inputWidgets": {},
     "nuid": "ce79131a-3dff-4bc7-a1be-3eecf135a2d1",
     "showTitle": false,
     "tableResultSettingsMap": {},
     "title": ""
    }
   },
   "outputs": [
    {
     "output_type": "stream",
     "name": "stdout",
     "output_type": "stream",
     "text": [
      "[{'NAME': 'Census Tract 9714.01, Bonneville County, Idaho', 'C17002_001E': 3547.0, 'C17002_002E': 134.0, 'C17002_003E': 217.0, 'B01003_001E': 3680.0, 'state': '16', 'county': '019', 'tract': '971401'}, {'NAME': 'Census Tract 9714.02, Bonneville County, Idaho', 'C17002_001E': 5876.0, 'C17002_002E': 48.0, 'C17002_003E': 225.0, 'B01003_001E': 5885.0, 'state': '16', 'county': '019', 'tract': '971402'}, {'NAME': 'Census Tract 9715, Bonneville County, Idaho', 'C17002_001E': 1868.0, 'C17002_002E': 29.0, 'C17002_003E': 17.0, 'B01003_001E': 1868.0, 'state': '16', 'county': '019', 'tract': '971500'}, {'NAME': 'Census Tract 9701, Boundary County, Idaho', 'C17002_001E': 7324.0, 'C17002_002E': 390.0, 'C17002_003E': 1069.0, 'B01003_001E': 7376.0, 'state': '16', 'county': '021', 'tract': '970100'}, {'NAME': 'Census Tract 9702, Boundary County, Idaho', 'C17002_001E': 4717.0, 'C17002_002E': 652.0, 'C17002_003E': 345.0, 'B01003_001E': 4780.0, 'state': '16', 'county': '021', 'tract': '970200'}, {'NAME': 'Census Tract 9701, Butte County, Idaho', 'C17002_001E': 2562.0, 'C17002_002E': 249.0, 'C17002_003E': 298.0, 'B01003_001E': 2603.0, 'state': '16', 'county': '023', 'tract': '970100'}, {'NAME': 'Census Tract 9701, Camas County, Idaho', 'C17002_001E': 1069.0, 'C17002_002E': 14.0, 'C17002_003E': 118.0, 'B01003_001E': 1069.0, 'state': '16', 'county': '025', 'tract': '970100'}, {'NAME': 'Census Tract 201, Canyon County, Idaho', 'C17002_001E': 1140.0, 'C17002_002E': 139.0, 'C17002_003E': 171.0, 'B01003_001E': 1210.0, 'state': '16', 'county': '027', 'tract': '020100'}, {'NAME': 'Census Tract 202, Canyon County, Idaho', 'C17002_001E': 5108.0, 'C17002_002E': 268.0, 'C17002_003E': 892.0, 'B01003_001E': 5108.0, 'state': '16', 'county': '027', 'tract': '020200'}, {'NAME': 'Census Tract 203, Canyon County, Idaho', 'C17002_001E': 4631.0, 'C17002_002E': 228.0, 'C17002_003E': 1100.0, 'B01003_001E': 4631.0, 'state': '16', 'county': '027', 'tract': '020300'}, {'NAME': 'Census Tract 204.03, Canyon County, Idaho', 'C17002_001E': 4458.0, 'C17002_002E': 178.0, 'C17002_003E': 232.0, 'B01003_001E': 4510.0, 'state': '16', 'county': '027', 'tract': '020403'}, {'NAME': 'Census Tract 204.04, Canyon County, Idaho', 'C17002_001E': 4206.0, 'C17002_002E': 266.0, 'C17002_003E': 686.0, 'B01003_001E': 4206.0, 'state': '16', 'county': '027', 'tract': '020404'}, {'NAME': 'Census Tract 204.05, Canyon County, Idaho', 'C17002_001E': 3040.0, 'C17002_002E': 253.0, 'C17002_003E': 427.0, 'B01003_001E': 3040.0, 'state': '16', 'county': '027', 'tract': '020405'}, {'NAME': 'Census Tract 204.06, Canyon County, Idaho', 'C17002_001E': 3135.0, 'C17002_002E': 206.0, 'C17002_003E': 228.0, 'B01003_001E': 3792.0, 'state': '16', 'county': '027', 'tract': '020406'}, {'NAME': 'Census Tract 205.01, Canyon County, Idaho', 'C17002_001E': 3688.0, 'C17002_002E': 118.0, 'C17002_003E': 142.0, 'B01003_001E': 3688.0, 'state': '16', 'county': '027', 'tract': '020501'}, {'NAME': 'Census Tract 205.03, Canyon County, Idaho', 'C17002_001E': 2982.0, 'C17002_002E': 216.0, 'C17002_003E': 53.0, 'B01003_001E': 3102.0, 'state': '16', 'county': '027', 'tract': '020503'}, {'NAME': 'Census Tract 205.05, Canyon County, Idaho', 'C17002_001E': 2960.0, 'C17002_002E': 139.0, 'C17002_003E': 115.0, 'B01003_001E': 2960.0, 'state': '16', 'county': '027', 'tract': '020505'}, {'NAME': 'Census Tract 205.06, Canyon County, Idaho', 'C17002_001E': 2748.0, 'C17002_002E': 337.0, 'C17002_003E': 775.0, 'B01003_001E': 2925.0, 'state': '16', 'county': '027', 'tract': '020506'}, {'NAME': 'Census Tract 206.01, Canyon County, Idaho', 'C17002_001E': 6618.0, 'C17002_002E': 158.0, 'C17002_003E': 470.0, 'B01003_001E': 6647.0, 'state': '16', 'county': '027', 'tract': '020601'}, {'NAME': 'Census Tract 206.03, Canyon County, Idaho', 'C17002_001E': 5387.0, 'C17002_002E': 316.0, 'C17002_003E': 112.0, 'B01003_001E': 5496.0, 'state': '16', 'county': '027', 'tract': '020603'}, {'NAME': 'Census Tract 206.04, Canyon County, Idaho', 'C17002_001E': 2329.0, 'C17002_002E': 120.0, 'C17002_003E': 474.0, 'B01003_001E': 2411.0, 'state': '16', 'county': '027', 'tract': '020604'}, {'NAME': 'Census Tract 207, Canyon County, Idaho', 'C17002_001E': 3995.0, 'C17002_002E': 125.0, 'C17002_003E': 73.0, 'B01003_001E': 3995.0, 'state': '16', 'county': '027', 'tract': '020700'}, {'NAME': 'Census Tract 209.03, Canyon County, Idaho', 'C17002_001E': 5112.0, 'C17002_002E': 558.0, 'C17002_003E': 42.0, 'B01003_001E': 5133.0, 'state': '16', 'county': '027', 'tract': '020903'}, {'NAME': 'Census Tract 209.04, Canyon County, Idaho', 'C17002_001E': 5503.0, 'C17002_002E': 191.0, 'C17002_003E': 554.0, 'B01003_001E': 5545.0, 'state': '16', 'county': '027', 'tract': '020904'}, {'NAME': 'Census Tract 209.05, Canyon County, Idaho', 'C17002_001E': 3302.0, 'C17002_002E': 175.0, 'C17002_003E': 4.0, 'B01003_001E': 3302.0, 'state': '16', 'county': '027', 'tract': '020905'}, {'NAME': 'Census Tract 209.06, Canyon County, Idaho', 'C17002_001E': 5270.0, 'C17002_002E': 0.0, 'C17002_003E': 246.0, 'B01003_001E': 5285.0, 'state': '16', 'county': '027', 'tract': '020906'}, {'NAME': 'Census Tract 209.07, Canyon County, Idaho', 'C17002_001E': 3208.0, 'C17002_002E': 182.0, 'C17002_003E': 14.0, 'B01003_001E': 3208.0, 'state': '16', 'county': '027', 'tract': '020907'}, {'NAME': 'Census Tract 209.08, Canyon County, Idaho', 'C17002_001E': 4639.0, 'C17002_002E': 340.0, 'C17002_003E': 91.0, 'B01003_001E': 4639.0, 'state': '16', 'county': '027', 'tract': '020908'}, {'NAME': 'Census Tract 209.09, Canyon County, Idaho', 'C17002_001E': 3408.0, 'C17002_002E': 56.0, 'C17002_003E': 135.0, 'B01003_001E': 3408.0, 'state': '16', 'county': '027', 'tract': '020909'}, {'NAME': 'Census Tract 209.10, Canyon County, Idaho', 'C17002_001E': 1860.0, 'C17002_002E': 55.0, 'C17002_003E': 0.0, 'B01003_001E': 1860.0, 'state': '16', 'county': '027', 'tract': '020910'}, {'NAME': 'Census Tract 210.03, Canyon County, Idaho', 'C17002_001E': 3995.0, 'C17002_002E': 21.0, 'C17002_003E': 192.0, 'B01003_001E': 3995.0, 'state': '16', 'county': '027', 'tract': '021003'}, {'NAME': 'Census Tract 210.04, Canyon County, Idaho', 'C17002_001E': 5893.0, 'C17002_002E': 599.0, 'C17002_003E': 266.0, 'B01003_001E': 5893.0, 'state': '16', 'county': '027', 'tract': '021004'}, {'NAME': 'Census Tract 210.05, Canyon County, Idaho', 'C17002_001E': 6131.0, 'C17002_002E': 151.0, 'C17002_003E': 420.0, 'B01003_001E': 6178.0, 'state': '16', 'county': '027', 'tract': '021005'}, {'NAME': 'Census Tract 210.06, Canyon County, Idaho', 'C17002_001E': 4520.0, 'C17002_002E': 177.0, 'C17002_003E': 168.0, 'B01003_001E': 4565.0, 'state': '16', 'county': '027', 'tract': '021006'}, {'NAME': 'Census Tract 210.07, Canyon County, Idaho', 'C17002_001E': 3802.0, 'C17002_002E': 219.0, 'C17002_003E': 217.0, 'B01003_001E': 3819.0, 'state': '16', 'county': '027', 'tract': '021007'}, {'NAME': 'Census Tract 210.08, Canyon County, Idaho', 'C17002_001E': 3479.0, 'C17002_002E': 15.0, 'C17002_003E': 522.0, 'B01003_001E': 3479.0, 'state': '16', 'county': '027', 'tract': '021008'}, {'NAME': 'Census Tract 211.01, Canyon County, Idaho', 'C17002_001E': 6271.0, 'C17002_002E': 645.0, 'C17002_003E': 222.0, 'B01003_001E': 6271.0, 'state': '16', 'county': '027', 'tract': '021101'}, {'NAME': 'Census Tract 211.02, Canyon County, Idaho', 'C17002_001E': 2628.0, 'C17002_002E': 106.0, 'C17002_003E': 0.0, 'B01003_001E': 2628.0, 'state': '16', 'county': '027', 'tract': '021102'}, {'NAME': 'Census Tract 211.03, Canyon County, Idaho', 'C17002_001E': 2313.0, 'C17002_002E': 5.0, 'C17002_003E': 122.0, 'B01003_001E': 2321.0, 'state': '16', 'county': '027', 'tract': '021103'}, {'NAME': 'Census Tract 211.04, Canyon County, Idaho', 'C17002_001E': 4153.0, 'C17002_002E': 620.0, 'C17002_003E': 203.0, 'B01003_001E': 4371.0, 'state': '16', 'county': '027', 'tract': '021104'}, {'NAME': 'Census Tract 211.05, Canyon County, Idaho', 'C17002_001E': 4304.0, 'C17002_002E': 22.0, 'C17002_003E': 0.0, 'B01003_001E': 4374.0, 'state': '16', 'county': '027', 'tract': '021105'}, {'NAME': 'Census Tract 212.01, Canyon County, Idaho', 'C17002_001E': 4426.0, 'C17002_002E': 330.0, 'C17002_003E': 253.0, 'B01003_001E': 4426.0, 'state': '16', 'county': '027', 'tract': '021201'}, {'NAME': 'Census Tract 212.02, Canyon County, Idaho', 'C17002_001E': 4625.0, 'C17002_002E': 359.0, 'C17002_003E': 547.0, 'B01003_001E': 4651.0, 'state': '16', 'county': '027', 'tract': '021202'}, {'NAME': 'Census Tract 213, Canyon County, Idaho', 'C17002_001E': 2309.0, 'C17002_002E': 372.0, 'C17002_003E': 250.0, 'B01003_001E': 2843.0, 'state': '16', 'county': '027', 'tract': '021300'}, {'NAME': 'Census Tract 215, Canyon County, Idaho', 'C17002_001E': 4402.0, 'C17002_002E': 287.0, 'C17002_003E': 850.0, 'B01003_001E': 5046.0, 'state': '16', 'county': '027', 'tract': '021500'}, {'NAME': 'Census Tract 216, Canyon County, Idaho', 'C17002_001E': 4675.0, 'C17002_002E': 409.0, 'C17002_003E': 598.0, 'B01003_001E': 4721.0, 'state': '16', 'county': '027', 'tract': '021600'}, {'NAME': 'Census Tract 217.01, Canyon County, Idaho', 'C17002_001E': 5309.0, 'C17002_002E': 244.0, 'C17002_003E': 212.0, 'B01003_001E': 5309.0, 'state': '16', 'county': '027', 'tract': '021701'}, {'NAME': 'Census Tract 217.02, Canyon County, Idaho', 'C17002_001E': 5471.0, 'C17002_002E': 202.0, 'C17002_003E': 321.0, 'B01003_001E': 5611.0, 'state': '16', 'county': '027', 'tract': '021702'}, {'NAME': 'Census Tract 218.01, Canyon County, Idaho', 'C17002_001E': 5649.0, 'C17002_002E': 1062.0, 'C17002_003E': 200.0, 'B01003_001E': 5649.0, 'state': '16', 'county': '027', 'tract': '021801'}, {'NAME': 'Census Tract 218.02, Canyon County, Idaho', 'C17002_001E': 2859.0, 'C17002_002E': 183.0, 'C17002_003E': 0.0, 'B01003_001E': 2859.0, 'state': '16', 'county': '027', 'tract': '021802'}, {'NAME': 'Census Tract 219.01, Canyon County, Idaho', 'C17002_001E': 5924.0, 'C17002_002E': 276.0, 'C17002_003E': 188.0, 'B01003_001E': 5942.0, 'state': '16', 'county': '027', 'tract': '021901'}, {'NAME': 'Census Tract 219.04, Canyon County, Idaho', 'C17002_001E': 3494.0, 'C17002_002E': 472.0, 'C17002_003E': 198.0, 'B01003_001E': 3494.0, 'state': '16', 'county': '027', 'tract': '021904'}, {'NAME': 'Census Tract 219.05, Canyon County, Idaho', 'C17002_001E': 3749.0, 'C17002_002E': 155.0, 'C17002_003E': 81.0, 'B01003_001E': 3749.0, 'state': '16', 'county': '027', 'tract': '021905'}, {'NAME': 'Census Tract 219.06, Canyon County, Idaho', 'C17002_001E': 6193.0, 'C17002_002E': 319.0, 'C17002_003E': 17.0, 'B01003_001E': 6193.0, 'state': '16', 'county': '027', 'tract': '021906'}, {'NAME': 'Census Tract 219.07, Canyon County, Idaho', 'C17002_001E': 2530.0, 'C17002_002E': 191.0, 'C17002_003E': 100.0, 'B01003_001E': 2530.0, 'state': '16', 'county': '027', 'tract': '021907'}, {'NAME': 'Census Tract 221, Canyon County, Idaho', 'C17002_001E': 5167.0, 'C17002_002E': 507.0, 'C17002_003E': 316.0, 'B01003_001E': 5223.0, 'state': '16', 'county': '027', 'tract': '022100'}, {'NAME': 'Census Tract 222, Canyon County, Idaho', 'C17002_001E': 5717.0, 'C17002_002E': 128.0, 'C17002_003E': 390.0, 'B01003_001E': 5787.0, 'state': '16', 'county': '027', 'tract': '022200'}, {'NAME': 'Census Tract 223.01, Canyon County, Idaho', 'C17002_001E': 2876.0, 'C17002_002E': 177.0, 'C17002_003E': 109.0, 'B01003_001E': 2894.0, 'state': '16', 'county': '027', 'tract': '022301'}, {'NAME': 'Census Tract 223.02, Canyon County, Idaho', 'C17002_001E': 1258.0, 'C17002_002E': 25.0, 'C17002_003E': 164.0, 'B01003_001E': 1258.0, 'state': '16', 'county': '027', 'tract': '022302'}, {'NAME': 'Census Tract 223.03, Canyon County, Idaho', 'C17002_001E': 2827.0, 'C17002_002E': 0.0, 'C17002_003E': 40.0, 'B01003_001E': 2827.0, 'state': '16', 'county': '027', 'tract': '022303'}, {'NAME': 'Census Tract 224, Canyon County, Idaho', 'C17002_001E': 4852.0, 'C17002_002E': 286.0, 'C17002_003E': 104.0, 'B01003_001E': 4883.0, 'state': '16', 'county': '027', 'tract': '022400'}, {'NAME': 'Census Tract 9601, Caribou County, Idaho', 'C17002_001E': 4374.0, 'C17002_002E': 72.0, 'C17002_003E': 260.0, 'B01003_001E': 4410.0, 'state': '16', 'county': '029', 'tract': '960100'}, {'NAME': 'Census Tract 9602, Caribou County, Idaho', 'C17002_001E': 2570.0, 'C17002_002E': 27.0, 'C17002_003E': 174.0, 'B01003_001E': 2618.0, 'state': '16', 'county': '029', 'tract': '960200'}, {'NAME': 'Census Tract 9501, Cassia County, Idaho', 'C17002_001E': 2772.0, 'C17002_002E': 218.0, 'C17002_003E': 229.0, 'B01003_001E': 2773.0, 'state': '16', 'county': '031', 'tract': '950100'}, {'NAME': 'Census Tract 9502, Cassia County, Idaho', 'C17002_001E': 3535.0, 'C17002_002E': 112.0, 'C17002_003E': 57.0, 'B01003_001E': 3538.0, 'state': '16', 'county': '031', 'tract': '950200'}, {'NAME': 'Census Tract 9503, Cassia County, Idaho', 'C17002_001E': 4827.0, 'C17002_002E': 443.0, 'C17002_003E': 143.0, 'B01003_001E': 4834.0, 'state': '16', 'county': '031', 'tract': '950300'}, {'NAME': 'Census Tract 9504, Cassia County, Idaho', 'C17002_001E': 3979.0, 'C17002_002E': 440.0, 'C17002_003E': 385.0, 'B01003_001E': 4157.0, 'state': '16', 'county': '031', 'tract': '950400'}, {'NAME': 'Census Tract 9505, Cassia County, Idaho', 'C17002_001E': 5564.0, 'C17002_002E': 148.0, 'C17002_003E': 143.0, 'B01003_001E': 5676.0, 'state': '16', 'county': '031', 'tract': '950500'}, {'NAME': 'Census Tract 9506, Cassia County, Idaho', 'C17002_001E': 2865.0, 'C17002_002E': 109.0, 'C17002_003E': 254.0, 'B01003_001E': 2869.0, 'state': '16', 'county': '031', 'tract': '950600'}, {'NAME': 'Census Tract 9501, Clark County, Idaho', 'C17002_001E': 885.0, 'C17002_002E': 33.0, 'C17002_003E': 54.0, 'B01003_001E': 885.0, 'state': '16', 'county': '033', 'tract': '950100'}, {'NAME': 'Census Tract 9400.01, Clearwater County, Idaho', 'C17002_001E': 1247.0, 'C17002_002E': 23.0, 'C17002_003E': 125.0, 'B01003_001E': 2137.0, 'state': '16', 'county': '035', 'tract': '940001'}, {'NAME': 'Census Tract 9400.02, Clearwater County, Idaho', 'C17002_001E': 3995.0, 'C17002_002E': 118.0, 'C17002_003E': 264.0, 'B01003_001E': 4024.0, 'state': '16', 'county': '035', 'tract': '940002'}, {'NAME': 'Census Tract 9701, Clearwater County, Idaho', 'C17002_001E': 2574.0, 'C17002_002E': 220.0, 'C17002_003E': 184.0, 'B01003_001E': 2574.0, 'state': '16', 'county': '035', 'tract': '970100'}, {'NAME': 'Census Tract 9602, Custer County, Idaho', 'C17002_001E': 4159.0, 'C17002_002E': 434.0, 'C17002_003E': 269.0, 'B01003_001E': 4193.0, 'state': '16', 'county': '037', 'tract': '960200'}, {'NAME': 'Census Tract 9601, Elmore County, Idaho', 'C17002_001E': 2929.0, 'C17002_002E': 202.0, 'C17002_003E': 517.0, 'B01003_001E': 2951.0, 'state': '16', 'county': '039', 'tract': '960100'}, {'NAME': 'Census Tract 9602.01, Elmore County, Idaho', 'C17002_001E': 4438.0, 'C17002_002E': 161.0, 'C17002_003E': 83.0, 'B01003_001E': 4438.0, 'state': '16', 'county': '039', 'tract': '960201'}, {'NAME': 'Census Tract 9602.02, Elmore County, Idaho', 'C17002_001E': 4212.0, 'C17002_002E': 503.0, 'C17002_003E': 420.0, 'B01003_001E': 4283.0, 'state': '16', 'county': '039', 'tract': '960202'}, {'NAME': 'Census Tract 9603, Elmore County, Idaho', 'C17002_001E': 3803.0, 'C17002_002E': 143.0, 'C17002_003E': 287.0, 'B01003_001E': 4049.0, 'state': '16', 'county': '039', 'tract': '960300'}, {'NAME': 'Census Tract 9604.01, Elmore County, Idaho', 'C17002_001E': 5074.0, 'C17002_002E': 371.0, 'C17002_003E': 211.0, 'B01003_001E': 5099.0, 'state': '16', 'county': '039', 'tract': '960401'}, {'NAME': 'Census Tract 9604.02, Elmore County, Idaho', 'C17002_001E': 3012.0, 'C17002_002E': 241.0, 'C17002_003E': 425.0, 'B01003_001E': 3072.0, 'state': '16', 'county': '039', 'tract': '960402'}, {'NAME': 'Census Tract 9605, Elmore County, Idaho', 'C17002_001E': 2675.0, 'C17002_002E': 124.0, 'C17002_003E': 49.0, 'B01003_001E': 3151.0, 'state': '16', 'county': '039', 'tract': '960500'}, {'NAME': 'Census Tract 9701, Franklin County, Idaho', 'C17002_001E': 7080.0, 'C17002_002E': 309.0, 'C17002_003E': 548.0, 'B01003_001E': 7121.0, 'state': '16', 'county': '041', 'tract': '970100'}, {'NAME': 'Census Tract 9702, Franklin County, Idaho', 'C17002_001E': 6615.0, 'C17002_002E': 170.0, 'C17002_003E': 302.0, 'B01003_001E': 6615.0, 'state': '16', 'county': '041', 'tract': '970200'}, {'NAME': 'Census Tract 9701, Fremont County, Idaho', 'C17002_001E': 1208.0, 'C17002_002E': 30.0, 'C17002_003E': 47.0, 'B01003_001E': 1208.0, 'state': '16', 'county': '043', 'tract': '970100'}, {'NAME': 'Census Tract 9702, Fremont County, Idaho', 'C17002_001E': 3754.0, 'C17002_002E': 37.0, 'C17002_003E': 495.0, 'B01003_001E': 3785.0, 'state': '16', 'county': '043', 'tract': '970200'}, {'NAME': 'Census Tract 9703.01, Fremont County, Idaho', 'C17002_001E': 4420.0, 'C17002_002E': 314.0, 'C17002_003E': 346.0, 'B01003_001E': 4959.0, 'state': '16', 'county': '043', 'tract': '970301'}, {'NAME': 'Census Tract 9703.02, Fremont County, Idaho', 'C17002_001E': 3150.0, 'C17002_002E': 95.0, 'C17002_003E': 323.0, 'B01003_001E': 3159.0, 'state': '16', 'county': '043', 'tract': '970302'}, {'NAME': 'Census Tract 9601, Gem County, Idaho', 'C17002_001E': 4998.0, 'C17002_002E': 55.0, 'C17002_003E': 230.0, 'B01003_001E': 5045.0, 'state': '16', 'county': '045', 'tract': '960100'}, {'NAME': 'Census Tract 9602, Gem County, Idaho', 'C17002_001E': 5919.0, 'C17002_002E': 104.0, 'C17002_003E': 1048.0, 'B01003_001E': 6063.0, 'state': '16', 'county': '045', 'tract': '960200'}, {'NAME': 'Census Tract 9603.01, Gem County, Idaho', 'C17002_001E': 4113.0, 'C17002_002E': 183.0, 'C17002_003E': 391.0, 'B01003_001E': 4151.0, 'state': '16', 'county': '045', 'tract': '960301'}, {'NAME': 'Census Tract 9603.02, Gem County, Idaho', 'C17002_001E': 2454.0, 'C17002_002E': 107.0, 'C17002_003E': 321.0, 'B01003_001E': 2512.0, 'state': '16', 'county': '045', 'tract': '960302'}, {'NAME': 'Census Tract 9601.01, Gooding County, Idaho', 'C17002_001E': 3538.0, 'C17002_002E': 169.0, 'C17002_003E': 769.0, 'B01003_001E': 3607.0, 'state': '16', 'county': '047', 'tract': '960101'}, {'NAME': 'Census Tract 9601.02, Gooding County, Idaho', 'C17002_001E': 3795.0, 'C17002_002E': 127.0, 'C17002_003E': 68.0, 'B01003_001E': 3809.0, 'state': '16', 'county': '047', 'tract': '960102'}, {'NAME': 'Census Tract 9602.02, Gooding County, Idaho', 'C17002_001E': 3079.0, 'C17002_002E': 32.0, 'C17002_003E': 176.0, 'B01003_001E': 3079.0, 'state': '16', 'county': '047', 'tract': '960202'}, {'NAME': 'Census Tract 9400, Idaho County, Idaho', 'C17002_001E': 4674.0, 'C17002_002E': 152.0, 'C17002_003E': 315.0, 'B01003_001E': 4690.0, 'state': '16', 'county': '049', 'tract': '940000'}, {'NAME': 'Census Tract 9601, Idaho County, Idaho', 'C17002_001E': 2304.0, 'C17002_002E': 121.0, 'C17002_003E': 152.0, 'B01003_001E': 2304.0, 'state': '16', 'county': '049', 'tract': '960100'}, {'NAME': 'Census Tract 9602.01, Idaho County, Idaho', 'C17002_001E': 1562.0, 'C17002_002E': 50.0, 'C17002_003E': 241.0, 'B01003_001E': 1562.0, 'state': '16', 'county': '049', 'tract': '960201'}, {'NAME': 'Census Tract 9602.02, Idaho County, Idaho', 'C17002_001E': 4299.0, 'C17002_002E': 183.0, 'C17002_003E': 303.0, 'B01003_001E': 4357.0, 'state': '16', 'county': '049', 'tract': '960202'}, {'NAME': 'Census Tract 9603, Idaho County, Idaho', 'C17002_001E': 1865.0, 'C17002_002E': 87.0, 'C17002_003E': 84.0, 'B01003_001E': 2393.0, 'state': '16', 'county': '049', 'tract': '960300'}, {'NAME': 'Census Tract 9604, Idaho County, Idaho', 'C17002_001E': 1205.0, 'C17002_002E': 47.0, 'C17002_003E': 133.0, 'B01003_001E': 1205.0, 'state': '16', 'county': '049', 'tract': '960400'}, {'NAME': 'Census Tract 9601, Jefferson County, Idaho', 'C17002_001E': 3922.0, 'C17002_002E': 105.0, 'C17002_003E': 275.0, 'B01003_001E': 3922.0, 'state': '16', 'county': '051', 'tract': '960100'}, {'NAME': 'Census Tract 9602, Jefferson County, Idaho', 'C17002_001E': 4552.0, 'C17002_002E': 124.0, 'C17002_003E': 129.0, 'B01003_001E': 4560.0, 'state': '16', 'county': '051', 'tract': '960200'}, {'NAME': 'Census Tract 9603.01, Jefferson County, Idaho', 'C17002_001E': 3254.0, 'C17002_002E': 102.0, 'C17002_003E': 641.0, 'B01003_001E': 3254.0, 'state': '16', 'county': '051', 'tract': '960301'}, {'NAME': 'Census Tract 9603.02, Jefferson County, Idaho', 'C17002_001E': 4828.0, 'C17002_002E': 203.0, 'C17002_003E': 322.0, 'B01003_001E': 4849.0, 'state': '16', 'county': '051', 'tract': '960302'}, {'NAME': 'Census Tract 9604.01, Jefferson County, Idaho', 'C17002_001E': 5776.0, 'C17002_002E': 289.0, 'C17002_003E': 51.0, 'B01003_001E': 5799.0, 'state': '16', 'county': '051', 'tract': '960401'}, {'NAME': 'Census Tract 9604.02, Jefferson County, Idaho', 'C17002_001E': 6854.0, 'C17002_002E': 67.0, 'C17002_003E': 85.0, 'B01003_001E': 6854.0, 'state': '16', 'county': '051', 'tract': '960402'}, {'NAME': 'Census Tract 9701, Jerome County, Idaho', 'C17002_001E': 2903.0, 'C17002_002E': 193.0, 'C17002_003E': 426.0, 'B01003_001E': 2918.0, 'state': '16', 'county': '053', 'tract': '970100'}, {'NAME': 'Census Tract 9702, Jerome County, Idaho', 'C17002_001E': 4755.0, 'C17002_002E': 205.0, 'C17002_003E': 637.0, 'B01003_001E': 4787.0, 'state': '16', 'county': '053', 'tract': '970200'}, {'NAME': 'Census Tract 9703, Jerome County, Idaho', 'C17002_001E': 5900.0, 'C17002_002E': 576.0, 'C17002_003E': 484.0, 'B01003_001E': 6019.0, 'state': '16', 'county': '053', 'tract': '970300'}, {'NAME': 'Census Tract 9704, Jerome County, Idaho', 'C17002_001E': 3215.0, 'C17002_002E': 757.0, 'C17002_003E': 273.0, 'B01003_001E': 3215.0, 'state': '16', 'county': '053', 'tract': '970400'}, {'NAME': 'Census Tract 9705.01, Jerome County, Idaho', 'C17002_001E': 4281.0, 'C17002_002E': 117.0, 'C17002_003E': 194.0, 'B01003_001E': 4319.0, 'state': '16', 'county': '053', 'tract': '970501'}, {'NAME': 'Census Tract 9705.02, Jerome County, Idaho', 'C17002_001E': 2811.0, 'C17002_002E': 97.0, 'C17002_003E': 275.0, 'B01003_001E': 2816.0, 'state': '16', 'county': '053', 'tract': '970502'}, {'NAME': 'Census Tract 1.01, Kootenai County, Idaho', 'C17002_001E': 2844.0, 'C17002_002E': 93.0, 'C17002_003E': 114.0, 'B01003_001E': 2844.0, 'state': '16', 'county': '055', 'tract': '000101'}, {'NAME': 'Census Tract 1.02, Kootenai County, Idaho', 'C17002_001E': 4934.0, 'C17002_002E': 103.0, 'C17002_003E': 175.0, 'B01003_001E': 4934.0, 'state': '16', 'county': '055', 'tract': '000102'}, {'NAME': 'Census Tract 2.01, Kootenai County, Idaho', 'C17002_001E': 3523.0, 'C17002_002E': 37.0, 'C17002_003E': 255.0, 'B01003_001E': 3573.0, 'state': '16', 'county': '055', 'tract': '000201'}, {'NAME': 'Census Tract 2.02, Kootenai County, Idaho', 'C17002_001E': 3365.0, 'C17002_002E': 17.0, 'C17002_003E': 259.0, 'B01003_001E': 3386.0, 'state': '16', 'county': '055', 'tract': '000202'}, {'NAME': 'Census Tract 2.03, Kootenai County, Idaho', 'C17002_001E': 3149.0, 'C17002_002E': 279.0, 'C17002_003E': 276.0, 'B01003_001E': 3149.0, 'state': '16', 'county': '055', 'tract': '000203'}, {'NAME': 'Census Tract 3.01, Kootenai County, Idaho', 'C17002_001E': 6789.0, 'C17002_002E': 78.0, 'C17002_003E': 124.0, 'B01003_001E': 6832.0, 'state': '16', 'county': '055', 'tract': '000301'}, {'NAME': 'Census Tract 3.03, Kootenai County, Idaho', 'C17002_001E': 4869.0, 'C17002_002E': 185.0, 'C17002_003E': 124.0, 'B01003_001E': 4869.0, 'state': '16', 'county': '055', 'tract': '000303'}, {'NAME': 'Census Tract 3.04, Kootenai County, Idaho', 'C17002_001E': 3181.0, 'C17002_002E': 11.0, 'C17002_003E': 287.0, 'B01003_001E': 3191.0, 'state': '16', 'county': '055', 'tract': '000304'}, {'NAME': 'Census Tract 4.01, Kootenai County, Idaho', 'C17002_001E': 5491.0, 'C17002_002E': 381.0, 'C17002_003E': 303.0, 'B01003_001E': 5548.0, 'state': '16', 'county': '055', 'tract': '000401'}, {'NAME': 'Census Tract 4.02, Kootenai County, Idaho', 'C17002_001E': 9724.0, 'C17002_002E': 485.0, 'C17002_003E': 507.0, 'B01003_001E': 9741.0, 'state': '16', 'county': '055', 'tract': '000402'}, {'NAME': 'Census Tract 5.01, Kootenai County, Idaho', 'C17002_001E': 6013.0, 'C17002_002E': 182.0, 'C17002_003E': 243.0, 'B01003_001E': 6224.0, 'state': '16', 'county': '055', 'tract': '000501'}, {'NAME': 'Census Tract 5.02, Kootenai County, Idaho', 'C17002_001E': 5355.0, 'C17002_002E': 12.0, 'C17002_003E': 696.0, 'B01003_001E': 5457.0, 'state': '16', 'county': '055', 'tract': '000502'}, {'NAME': 'Census Tract 5.03, Kootenai County, Idaho', 'C17002_001E': 3687.0, 'C17002_002E': 61.0, 'C17002_003E': 204.0, 'B01003_001E': 3687.0, 'state': '16', 'county': '055', 'tract': '000503'}, {'NAME': 'Census Tract 6.01, Kootenai County, Idaho', 'C17002_001E': 4158.0, 'C17002_002E': 171.0, 'C17002_003E': 559.0, 'B01003_001E': 4158.0, 'state': '16', 'county': '055', 'tract': '000601'}, {'NAME': 'Census Tract 6.02, Kootenai County, Idaho', 'C17002_001E': 6583.0, 'C17002_002E': 759.0, 'C17002_003E': 677.0, 'B01003_001E': 6654.0, 'state': '16', 'county': '055', 'tract': '000602'}, {'NAME': 'Census Tract 7.01, Kootenai County, Idaho', 'C17002_001E': 5094.0, 'C17002_002E': 143.0, 'C17002_003E': 267.0, 'B01003_001E': 5205.0, 'state': '16', 'county': '055', 'tract': '000701'}, {'NAME': 'Ce\n\n*** WARNING: max output size exceeded, skipping output. ***\n\nn County, Idaho', 'C17002_001E': 3472.0, 'C17002_002E': 187.0, 'C17002_003E': 179.0, 'B01003_001E': 3554.0, 'state': '16', 'county': '087', 'tract': '970200'}, {'NAME': 'Census Tract 9703, Washington County, Idaho', 'C17002_001E': 4742.0, 'C17002_002E': 378.0, 'C17002_003E': 180.0, 'B01003_001E': 4758.0, 'state': '16', 'county': '087', 'tract': '970300'}, {'NAME': 'Census Tract 1.01, Ada County, Idaho', 'C17002_001E': 1267.0, 'C17002_002E': 151.0, 'C17002_003E': 316.0, 'B01003_001E': 1273.0, 'state': '16', 'county': '001', 'tract': '000101'}, {'NAME': 'Census Tract 1.02, Ada County, Idaho', 'C17002_001E': 2650.0, 'C17002_002E': 259.0, 'C17002_003E': 227.0, 'B01003_001E': 2737.0, 'state': '16', 'county': '001', 'tract': '000102'}, {'NAME': 'Census Tract 2.01, Ada County, Idaho', 'C17002_001E': 3149.0, 'C17002_002E': 120.0, 'C17002_003E': 72.0, 'B01003_001E': 3300.0, 'state': '16', 'county': '001', 'tract': '000201'}, {'NAME': 'Census Tract 2.02, Ada County, Idaho', 'C17002_001E': 5782.0, 'C17002_002E': 127.0, 'C17002_003E': 126.0, 'B01003_001E': 5782.0, 'state': '16', 'county': '001', 'tract': '000202'}, {'NAME': 'Census Tract 3.02, Ada County, Idaho', 'C17002_001E': 3205.0, 'C17002_002E': 379.0, 'C17002_003E': 112.0, 'B01003_001E': 3306.0, 'state': '16', 'county': '001', 'tract': '000302'}, {'NAME': 'Census Tract 3.03, Ada County, Idaho', 'C17002_001E': 2219.0, 'C17002_002E': 81.0, 'C17002_003E': 150.0, 'B01003_001E': 2230.0, 'state': '16', 'county': '001', 'tract': '000303'}, {'NAME': 'Census Tract 3.05, Ada County, Idaho', 'C17002_001E': 2584.0, 'C17002_002E': 146.0, 'C17002_003E': 112.0, 'B01003_001E': 2584.0, 'state': '16', 'county': '001', 'tract': '000305'}, {'NAME': 'Census Tract 3.06, Ada County, Idaho', 'C17002_001E': 4173.0, 'C17002_002E': 153.0, 'C17002_003E': 40.0, 'B01003_001E': 4173.0, 'state': '16', 'county': '001', 'tract': '000306'}, {'NAME': 'Census Tract 4.01, Ada County, Idaho', 'C17002_001E': 2402.0, 'C17002_002E': 142.0, 'C17002_003E': 43.0, 'B01003_001E': 2402.0, 'state': '16', 'county': '001', 'tract': '000401'}, {'NAME': 'Census Tract 4.02, Ada County, Idaho', 'C17002_001E': 3710.0, 'C17002_002E': 172.0, 'C17002_003E': 324.0, 'B01003_001E': 3721.0, 'state': '16', 'county': '001', 'tract': '000402'}, {'NAME': 'Census Tract 5.01, Ada County, Idaho', 'C17002_001E': 2879.0, 'C17002_002E': 121.0, 'C17002_003E': 220.0, 'B01003_001E': 2879.0, 'state': '16', 'county': '001', 'tract': '000501'}, {'NAME': 'Census Tract 5.02, Ada County, Idaho', 'C17002_001E': 3370.0, 'C17002_002E': 259.0, 'C17002_003E': 76.0, 'B01003_001E': 3414.0, 'state': '16', 'county': '001', 'tract': '000502'}, {'NAME': 'Census Tract 6.01, Ada County, Idaho', 'C17002_001E': 2009.0, 'C17002_002E': 41.0, 'C17002_003E': 32.0, 'B01003_001E': 2009.0, 'state': '16', 'county': '001', 'tract': '000601'}, {'NAME': 'Census Tract 6.02, Ada County, Idaho', 'C17002_001E': 3255.0, 'C17002_002E': 171.0, 'C17002_003E': 148.0, 'B01003_001E': 3270.0, 'state': '16', 'county': '001', 'tract': '000602'}, {'NAME': 'Census Tract 7.01, Ada County, Idaho', 'C17002_001E': 5650.0, 'C17002_002E': 310.0, 'C17002_003E': 229.0, 'B01003_001E': 5738.0, 'state': '16', 'county': '001', 'tract': '000701'}, {'NAME': 'Census Tract 7.03, Ada County, Idaho', 'C17002_001E': 1900.0, 'C17002_002E': 20.0, 'C17002_003E': 0.0, 'B01003_001E': 1900.0, 'state': '16', 'county': '001', 'tract': '000703'}, {'NAME': 'Census Tract 7.04, Ada County, Idaho', 'C17002_001E': 3130.0, 'C17002_002E': 32.0, 'C17002_003E': 105.0, 'B01003_001E': 3233.0, 'state': '16', 'county': '001', 'tract': '000704'}, {'NAME': 'Census Tract 8.03, Ada County, Idaho', 'C17002_001E': 4357.0, 'C17002_002E': 113.0, 'C17002_003E': 187.0, 'B01003_001E': 4357.0, 'state': '16', 'county': '001', 'tract': '000803'}, {'NAME': 'Census Tract 8.05, Ada County, Idaho', 'C17002_001E': 3403.0, 'C17002_002E': 68.0, 'C17002_003E': 61.0, 'B01003_001E': 3403.0, 'state': '16', 'county': '001', 'tract': '000805'}, {'NAME': 'Census Tract 8.06, Ada County, Idaho', 'C17002_001E': 2952.0, 'C17002_002E': 388.0, 'C17002_003E': 509.0, 'B01003_001E': 2967.0, 'state': '16', 'county': '001', 'tract': '000806'}, {'NAME': 'Census Tract 8.07, Ada County, Idaho', 'C17002_001E': 2120.0, 'C17002_002E': 233.0, 'C17002_003E': 121.0, 'B01003_001E': 2120.0, 'state': '16', 'county': '001', 'tract': '000807'}, {'NAME': 'Census Tract 8.08, Ada County, Idaho', 'C17002_001E': 2254.0, 'C17002_002E': 121.0, 'C17002_003E': 61.0, 'B01003_001E': 2254.0, 'state': '16', 'county': '001', 'tract': '000808'}, {'NAME': 'Census Tract 8.09, Ada County, Idaho', 'C17002_001E': 2685.0, 'C17002_002E': 102.0, 'C17002_003E': 94.0, 'B01003_001E': 2685.0, 'state': '16', 'county': '001', 'tract': '000809'}, {'NAME': 'Census Tract 8.10, Ada County, Idaho', 'C17002_001E': 3030.0, 'C17002_002E': 165.0, 'C17002_003E': 204.0, 'B01003_001E': 3030.0, 'state': '16', 'county': '001', 'tract': '000810'}, {'NAME': 'Census Tract 9.01, Ada County, Idaho', 'C17002_001E': 2056.0, 'C17002_002E': 326.0, 'C17002_003E': 195.0, 'B01003_001E': 2056.0, 'state': '16', 'county': '001', 'tract': '000901'}, {'NAME': 'Census Tract 9.02, Ada County, Idaho', 'C17002_001E': 2917.0, 'C17002_002E': 1141.0, 'C17002_003E': 554.0, 'B01003_001E': 4731.0, 'state': '16', 'county': '001', 'tract': '000902'}, {'NAME': 'Census Tract 10.01, Ada County, Idaho', 'C17002_001E': 2090.0, 'C17002_002E': 48.0, 'C17002_003E': 78.0, 'B01003_001E': 2090.0, 'state': '16', 'county': '001', 'tract': '001001'}, {'NAME': 'Census Tract 10.02, Ada County, Idaho', 'C17002_001E': 2172.0, 'C17002_002E': 959.0, 'C17002_003E': 423.0, 'B01003_001E': 2172.0, 'state': '16', 'county': '001', 'tract': '001002'}, {'NAME': 'Census Tract 10.03, Ada County, Idaho', 'C17002_001E': 3107.0, 'C17002_002E': 53.0, 'C17002_003E': 524.0, 'B01003_001E': 3107.0, 'state': '16', 'county': '001', 'tract': '001003'}, {'NAME': 'Census Tract 11, Ada County, Idaho', 'C17002_001E': 4282.0, 'C17002_002E': 351.0, 'C17002_003E': 563.0, 'B01003_001E': 4326.0, 'state': '16', 'county': '001', 'tract': '001100'}, {'NAME': 'Census Tract 12.01, Ada County, Idaho', 'C17002_001E': 3446.0, 'C17002_002E': 240.0, 'C17002_003E': 207.0, 'B01003_001E': 3446.0, 'state': '16', 'county': '001', 'tract': '001201'}, {'NAME': 'Census Tract 12.03, Ada County, Idaho', 'C17002_001E': 3971.0, 'C17002_002E': 147.0, 'C17002_003E': 477.0, 'B01003_001E': 3992.0, 'state': '16', 'county': '001', 'tract': '001203'}, {'NAME': 'Census Tract 12.04, Ada County, Idaho', 'C17002_001E': 3185.0, 'C17002_002E': 159.0, 'C17002_003E': 345.0, 'B01003_001E': 3305.0, 'state': '16', 'county': '001', 'tract': '001204'}, {'NAME': 'Census Tract 14.01, Ada County, Idaho', 'C17002_001E': 2557.0, 'C17002_002E': 141.0, 'C17002_003E': 100.0, 'B01003_001E': 2557.0, 'state': '16', 'county': '001', 'tract': '001401'}, {'NAME': 'Census Tract 14.02, Ada County, Idaho', 'C17002_001E': 3412.0, 'C17002_002E': 489.0, 'C17002_003E': 253.0, 'B01003_001E': 3497.0, 'state': '16', 'county': '001', 'tract': '001402'}, {'NAME': 'Census Tract 15, Ada County, Idaho', 'C17002_001E': 3983.0, 'C17002_002E': 138.0, 'C17002_003E': 175.0, 'B01003_001E': 3983.0, 'state': '16', 'county': '001', 'tract': '001500'}, {'NAME': 'Census Tract 16, Ada County, Idaho', 'C17002_001E': 4847.0, 'C17002_002E': 355.0, 'C17002_003E': 574.0, 'B01003_001E': 4847.0, 'state': '16', 'county': '001', 'tract': '001600'}, {'NAME': 'Census Tract 17.01, Ada County, Idaho', 'C17002_001E': 2183.0, 'C17002_002E': 30.0, 'C17002_003E': 282.0, 'B01003_001E': 2183.0, 'state': '16', 'county': '001', 'tract': '001701'}, {'NAME': 'Census Tract 17.02, Ada County, Idaho', 'C17002_001E': 4251.0, 'C17002_002E': 293.0, 'C17002_003E': 569.0, 'B01003_001E': 4251.0, 'state': '16', 'county': '001', 'tract': '001702'}, {'NAME': 'Census Tract 18, Ada County, Idaho', 'C17002_001E': 4635.0, 'C17002_002E': 154.0, 'C17002_003E': 309.0, 'B01003_001E': 4635.0, 'state': '16', 'county': '001', 'tract': '001800'}, {'NAME': 'Census Tract 19, Ada County, Idaho', 'C17002_001E': 5178.0, 'C17002_002E': 125.0, 'C17002_003E': 247.0, 'B01003_001E': 5178.0, 'state': '16', 'county': '001', 'tract': '001900'}, {'NAME': 'Census Tract 20, Ada County, Idaho', 'C17002_001E': 4571.0, 'C17002_002E': 917.0, 'C17002_003E': 411.0, 'B01003_001E': 4741.0, 'state': '16', 'county': '001', 'tract': '002000'}, {'NAME': 'Census Tract 21, Ada County, Idaho', 'C17002_001E': 2034.0, 'C17002_002E': 29.0, 'C17002_003E': 107.0, 'B01003_001E': 2051.0, 'state': '16', 'county': '001', 'tract': '002100'}, {'NAME': 'Census Tract 22.23, Ada County, Idaho', 'C17002_001E': 5014.0, 'C17002_002E': 103.0, 'C17002_003E': 113.0, 'B01003_001E': 5074.0, 'state': '16', 'county': '001', 'tract': '002223'}, {'NAME': 'Census Tract 22.25, Ada County, Idaho', 'C17002_001E': 4079.0, 'C17002_002E': 164.0, 'C17002_003E': 129.0, 'B01003_001E': 4079.0, 'state': '16', 'county': '001', 'tract': '002225'}, {'NAME': 'Census Tract 22.26, Ada County, Idaho', 'C17002_001E': 3244.0, 'C17002_002E': 0.0, 'C17002_003E': 440.0, 'B01003_001E': 3244.0, 'state': '16', 'county': '001', 'tract': '002226'}, {'NAME': 'Census Tract 22.27, Ada County, Idaho', 'C17002_001E': 3006.0, 'C17002_002E': 64.0, 'C17002_003E': 83.0, 'B01003_001E': 3006.0, 'state': '16', 'county': '001', 'tract': '002227'}, {'NAME': 'Census Tract 22.28, Ada County, Idaho', 'C17002_001E': 3323.0, 'C17002_002E': 33.0, 'C17002_003E': 62.0, 'B01003_001E': 3323.0, 'state': '16', 'county': '001', 'tract': '002228'}, {'NAME': 'Census Tract 22.29, Ada County, Idaho', 'C17002_001E': 3217.0, 'C17002_002E': 8.0, 'C17002_003E': 51.0, 'B01003_001E': 3217.0, 'state': '16', 'county': '001', 'tract': '002229'}, {'NAME': 'Census Tract 22.30, Ada County, Idaho', 'C17002_001E': 3649.0, 'C17002_002E': 196.0, 'C17002_003E': 12.0, 'B01003_001E': 3649.0, 'state': '16', 'county': '001', 'tract': '002230'}, {'NAME': 'Census Tract 22.31, Ada County, Idaho', 'C17002_001E': 2448.0, 'C17002_002E': 66.0, 'C17002_003E': 173.0, 'B01003_001E': 2474.0, 'state': '16', 'county': '001', 'tract': '002231'}, {'NAME': 'Census Tract 23.13, Ada County, Idaho', 'C17002_001E': 4058.0, 'C17002_002E': 137.0, 'C17002_003E': 155.0, 'B01003_001E': 4161.0, 'state': '16', 'county': '001', 'tract': '002313'}, {'NAME': 'Census Tract 23.14, Ada County, Idaho', 'C17002_001E': 4613.0, 'C17002_002E': 252.0, 'C17002_003E': 721.0, 'B01003_001E': 4700.0, 'state': '16', 'county': '001', 'tract': '002314'}, {'NAME': 'Census Tract 23.15, Ada County, Idaho', 'C17002_001E': 5322.0, 'C17002_002E': 284.0, 'C17002_003E': 278.0, 'B01003_001E': 5322.0, 'state': '16', 'county': '001', 'tract': '002315'}, {'NAME': 'Census Tract 23.16, Ada County, Idaho', 'C17002_001E': 2162.0, 'C17002_002E': 170.0, 'C17002_003E': 63.0, 'B01003_001E': 2162.0, 'state': '16', 'county': '001', 'tract': '002316'}, {'NAME': 'Census Tract 23.17, Ada County, Idaho', 'C17002_001E': 3213.0, 'C17002_002E': 55.0, 'C17002_003E': 231.0, 'B01003_001E': 3213.0, 'state': '16', 'county': '001', 'tract': '002317'}, {'NAME': 'Census Tract 23.18, Ada County, Idaho', 'C17002_001E': 4140.0, 'C17002_002E': 322.0, 'C17002_003E': 98.0, 'B01003_001E': 4238.0, 'state': '16', 'county': '001', 'tract': '002318'}, {'NAME': 'Census Tract 23.19, Ada County, Idaho', 'C17002_001E': 3814.0, 'C17002_002E': 317.0, 'C17002_003E': 357.0, 'B01003_001E': 3814.0, 'state': '16', 'county': '001', 'tract': '002319'}, {'NAME': 'Census Tract 24.12, Ada County, Idaho', 'C17002_001E': 4256.0, 'C17002_002E': 193.0, 'C17002_003E': 111.0, 'B01003_001E': 4281.0, 'state': '16', 'county': '001', 'tract': '002412'}, {'NAME': 'Census Tract 24.14, Ada County, Idaho', 'C17002_001E': 2775.0, 'C17002_002E': 78.0, 'C17002_003E': 64.0, 'B01003_001E': 2874.0, 'state': '16', 'county': '001', 'tract': '002414'}, {'NAME': 'Census Tract 24.15, Ada County, Idaho', 'C17002_001E': 2469.0, 'C17002_002E': 46.0, 'C17002_003E': 0.0, 'B01003_001E': 2469.0, 'state': '16', 'county': '001', 'tract': '002415'}, {'NAME': 'Census Tract 24.16, Ada County, Idaho', 'C17002_001E': 5795.0, 'C17002_002E': 46.0, 'C17002_003E': 896.0, 'B01003_001E': 5819.0, 'state': '16', 'county': '001', 'tract': '002416'}, {'NAME': 'Census Tract 24.17, Ada County, Idaho', 'C17002_001E': 2503.0, 'C17002_002E': 46.0, 'C17002_003E': 152.0, 'B01003_001E': 2520.0, 'state': '16', 'county': '001', 'tract': '002417'}, {'NAME': 'Census Tract 24.18, Ada County, Idaho', 'C17002_001E': 3746.0, 'C17002_002E': 124.0, 'C17002_003E': 31.0, 'B01003_001E': 3783.0, 'state': '16', 'county': '001', 'tract': '002418'}, {'NAME': 'Census Tract 24.19, Ada County, Idaho', 'C17002_001E': 3621.0, 'C17002_002E': 261.0, 'C17002_003E': 218.0, 'B01003_001E': 3637.0, 'state': '16', 'county': '001', 'tract': '002419'}, {'NAME': 'Census Tract 101.01, Ada County, Idaho', 'C17002_001E': 3766.0, 'C17002_002E': 75.0, 'C17002_003E': 24.0, 'B01003_001E': 3766.0, 'state': '16', 'county': '001', 'tract': '010101'}, {'NAME': 'Census Tract 101.02, Ada County, Idaho', 'C17002_001E': 5871.0, 'C17002_002E': 315.0, 'C17002_003E': 14.0, 'B01003_001E': 5871.0, 'state': '16', 'county': '001', 'tract': '010102'}, {'NAME': 'Census Tract 102.24, Ada County, Idaho', 'C17002_001E': 4660.0, 'C17002_002E': 257.0, 'C17002_003E': 163.0, 'B01003_001E': 4660.0, 'state': '16', 'county': '001', 'tract': '010224'}, {'NAME': 'Census Tract 102.26, Ada County, Idaho', 'C17002_001E': 2791.0, 'C17002_002E': 24.0, 'C17002_003E': 9.0, 'B01003_001E': 2791.0, 'state': '16', 'county': '001', 'tract': '010226'}, {'NAME': 'Census Tract 102.27, Ada County, Idaho', 'C17002_001E': 2959.0, 'C17002_002E': 198.0, 'C17002_003E': 110.0, 'B01003_001E': 2959.0, 'state': '16', 'county': '001', 'tract': '010227'}, {'NAME': 'Census Tract 102.28, Ada County, Idaho', 'C17002_001E': 2588.0, 'C17002_002E': 82.0, 'C17002_003E': 183.0, 'B01003_001E': 2588.0, 'state': '16', 'county': '001', 'tract': '010228'}, {'NAME': 'Census Tract 102.29, Ada County, Idaho', 'C17002_001E': 3551.0, 'C17002_002E': 234.0, 'C17002_003E': 50.0, 'B01003_001E': 3551.0, 'state': '16', 'county': '001', 'tract': '010229'}, {'NAME': 'Census Tract 102.30, Ada County, Idaho', 'C17002_001E': 4130.0, 'C17002_002E': 57.0, 'C17002_003E': 285.0, 'B01003_001E': 4145.0, 'state': '16', 'county': '001', 'tract': '010230'}, {'NAME': 'Census Tract 102.31, Ada County, Idaho', 'C17002_001E': 2228.0, 'C17002_002E': 113.0, 'C17002_003E': 2.0, 'B01003_001E': 2228.0, 'state': '16', 'county': '001', 'tract': '010231'}, {'NAME': 'Census Tract 102.32, Ada County, Idaho', 'C17002_001E': 3130.0, 'C17002_002E': 115.0, 'C17002_003E': 0.0, 'B01003_001E': 3130.0, 'state': '16', 'county': '001', 'tract': '010232'}, {'NAME': 'Census Tract 102.33, Ada County, Idaho', 'C17002_001E': 2853.0, 'C17002_002E': 163.0, 'C17002_003E': 258.0, 'B01003_001E': 2853.0, 'state': '16', 'county': '001', 'tract': '010233'}, {'NAME': 'Census Tract 102.34, Ada County, Idaho', 'C17002_001E': 4179.0, 'C17002_002E': 432.0, 'C17002_003E': 152.0, 'B01003_001E': 4179.0, 'state': '16', 'county': '001', 'tract': '010234'}, {'NAME': 'Census Tract 102.35, Ada County, Idaho', 'C17002_001E': 4788.0, 'C17002_002E': 130.0, 'C17002_003E': 151.0, 'B01003_001E': 4788.0, 'state': '16', 'county': '001', 'tract': '010235'}, {'NAME': 'Census Tract 102.36, Ada County, Idaho', 'C17002_001E': 2897.0, 'C17002_002E': 121.0, 'C17002_003E': 63.0, 'B01003_001E': 2897.0, 'state': '16', 'county': '001', 'tract': '010236'}, {'NAME': 'Census Tract 102.37, Ada County, Idaho', 'C17002_001E': 4479.0, 'C17002_002E': 259.0, 'C17002_003E': 0.0, 'B01003_001E': 4479.0, 'state': '16', 'county': '001', 'tract': '010237'}, {'NAME': 'Census Tract 103.36, Ada County, Idaho', 'C17002_001E': 2086.0, 'C17002_002E': 0.0, 'C17002_003E': 167.0, 'B01003_001E': 2086.0, 'state': '16', 'county': '001', 'tract': '010336'}, {'NAME': 'Census Tract 103.37, Ada County, Idaho', 'C17002_001E': 3997.0, 'C17002_002E': 166.0, 'C17002_003E': 32.0, 'B01003_001E': 3997.0, 'state': '16', 'county': '001', 'tract': '010337'}, {'NAME': 'Census Tract 103.38, Ada County, Idaho', 'C17002_001E': 3537.0, 'C17002_002E': 296.0, 'C17002_003E': 0.0, 'B01003_001E': 3537.0, 'state': '16', 'county': '001', 'tract': '010338'}, {'NAME': 'Census Tract 103.39, Ada County, Idaho', 'C17002_001E': 2849.0, 'C17002_002E': 0.0, 'C17002_003E': 0.0, 'B01003_001E': 2860.0, 'state': '16', 'county': '001', 'tract': '010339'}, {'NAME': 'Census Tract 103.40, Ada County, Idaho', 'C17002_001E': 3733.0, 'C17002_002E': 62.0, 'C17002_003E': 0.0, 'B01003_001E': 3750.0, 'state': '16', 'county': '001', 'tract': '010340'}, {'NAME': 'Census Tract 103.41, Ada County, Idaho', 'C17002_001E': 4693.0, 'C17002_002E': 202.0, 'C17002_003E': 0.0, 'B01003_001E': 4693.0, 'state': '16', 'county': '001', 'tract': '010341'}, {'NAME': 'Census Tract 103.42, Ada County, Idaho', 'C17002_001E': 4133.0, 'C17002_002E': 0.0, 'C17002_003E': 0.0, 'B01003_001E': 4133.0, 'state': '16', 'county': '001', 'tract': '010342'}, {'NAME': 'Census Tract 103.43, Ada County, Idaho', 'C17002_001E': 2422.0, 'C17002_002E': 0.0, 'C17002_003E': 0.0, 'B01003_001E': 2422.0, 'state': '16', 'county': '001', 'tract': '010343'}, {'NAME': 'Census Tract 103.44, Ada County, Idaho', 'C17002_001E': 3494.0, 'C17002_002E': 198.0, 'C17002_003E': 90.0, 'B01003_001E': 3494.0, 'state': '16', 'county': '001', 'tract': '010344'}, {'NAME': 'Census Tract 103.45, Ada County, Idaho', 'C17002_001E': 4212.0, 'C17002_002E': 137.0, 'C17002_003E': 67.0, 'B01003_001E': 4212.0, 'state': '16', 'county': '001', 'tract': '010345'}, {'NAME': 'Census Tract 103.46, Ada County, Idaho', 'C17002_001E': 876.0, 'C17002_002E': 8.0, 'C17002_003E': 3.0, 'B01003_001E': 876.0, 'state': '16', 'county': '001', 'tract': '010346'}, {'NAME': 'Census Tract 103.47, Ada County, Idaho', 'C17002_001E': 3792.0, 'C17002_002E': 237.0, 'C17002_003E': 118.0, 'B01003_001E': 3938.0, 'state': '16', 'county': '001', 'tract': '010347'}, {'NAME': 'Census Tract 103.48, Ada County, Idaho', 'C17002_001E': 3079.0, 'C17002_002E': 119.0, 'C17002_003E': 170.0, 'B01003_001E': 3087.0, 'state': '16', 'county': '001', 'tract': '010348'}, {'NAME': 'Census Tract 103.49, Ada County, Idaho', 'C17002_001E': 3332.0, 'C17002_002E': 0.0, 'C17002_003E': 0.0, 'B01003_001E': 3332.0, 'state': '16', 'county': '001', 'tract': '010349'}, {'NAME': 'Census Tract 103.50, Ada County, Idaho', 'C17002_001E': 2925.0, 'C17002_002E': 0.0, 'C17002_003E': 669.0, 'B01003_001E': 2925.0, 'state': '16', 'county': '001', 'tract': '010350'}, {'NAME': 'Census Tract 103.51, Ada County, Idaho', 'C17002_001E': 1969.0, 'C17002_002E': 61.0, 'C17002_003E': 0.0, 'B01003_001E': 1969.0, 'state': '16', 'county': '001', 'tract': '010351'}, {'NAME': 'Census Tract 103.52, Ada County, Idaho', 'C17002_001E': 4673.0, 'C17002_002E': 192.0, 'C17002_003E': 63.0, 'B01003_001E': 4791.0, 'state': '16', 'county': '001', 'tract': '010352'}, {'NAME': 'Census Tract 103.53, Ada County, Idaho', 'C17002_001E': 5830.0, 'C17002_002E': 0.0, 'C17002_003E': 212.0, 'B01003_001E': 5830.0, 'state': '16', 'county': '001', 'tract': '010353'}, {'NAME': 'Census Tract 103.54, Ada County, Idaho', 'C17002_001E': 5500.0, 'C17002_002E': 188.0, 'C17002_003E': 0.0, 'B01003_001E': 5500.0, 'state': '16', 'county': '001', 'tract': '010354'}, {'NAME': 'Census Tract 103.55, Ada County, Idaho', 'C17002_001E': 1532.0, 'C17002_002E': 36.0, 'C17002_003E': 1.0, 'B01003_001E': 1551.0, 'state': '16', 'county': '001', 'tract': '010355'}, {'NAME': 'Census Tract 103.56, Ada County, Idaho', 'C17002_001E': 4208.0, 'C17002_002E': 116.0, 'C17002_003E': 0.0, 'B01003_001E': 4208.0, 'state': '16', 'county': '001', 'tract': '010356'}, {'NAME': 'Census Tract 103.57, Ada County, Idaho', 'C17002_001E': 3477.0, 'C17002_002E': 13.0, 'C17002_003E': 0.0, 'B01003_001E': 3477.0, 'state': '16', 'county': '001', 'tract': '010357'}, {'NAME': 'Census Tract 103.58, Ada County, Idaho', 'C17002_001E': 5050.0, 'C17002_002E': 51.0, 'C17002_003E': 75.0, 'B01003_001E': 5050.0, 'state': '16', 'county': '001', 'tract': '010358'}, {'NAME': 'Census Tract 103.59, Ada County, Idaho', 'C17002_001E': 4201.0, 'C17002_002E': 170.0, 'C17002_003E': 323.0, 'B01003_001E': 4201.0, 'state': '16', 'county': '001', 'tract': '010359'}, {'NAME': 'Census Tract 103.60, Ada County, Idaho', 'C17002_001E': 4267.0, 'C17002_002E': 101.0, 'C17002_003E': 41.0, 'B01003_001E': 4267.0, 'state': '16', 'county': '001', 'tract': '010360'}, {'NAME': 'Census Tract 103.61, Ada County, Idaho', 'C17002_001E': 4061.0, 'C17002_002E': 0.0, 'C17002_003E': 0.0, 'B01003_001E': 4061.0, 'state': '16', 'county': '001', 'tract': '010361'}, {'NAME': 'Census Tract 103.62, Ada County, Idaho', 'C17002_001E': 5069.0, 'C17002_002E': 240.0, 'C17002_003E': 92.0, 'B01003_001E': 5151.0, 'state': '16', 'county': '001', 'tract': '010362'}, {'NAME': 'Census Tract 103.63, Ada County, Idaho', 'C17002_001E': 4821.0, 'C17002_002E': 0.0, 'C17002_003E': 69.0, 'B01003_001E': 4821.0, 'state': '16', 'county': '001', 'tract': '010363'}, {'NAME': 'Census Tract 103.64, Ada County, Idaho', 'C17002_001E': 5586.0, 'C17002_002E': 86.0, 'C17002_003E': 228.0, 'B01003_001E': 5630.0, 'state': '16', 'county': '001', 'tract': '010364'}, {'NAME': 'Census Tract 103.65, Ada County, Idaho', 'C17002_001E': 3387.0, 'C17002_002E': 34.0, 'C17002_003E': 127.0, 'B01003_001E': 3387.0, 'state': '16', 'county': '001', 'tract': '010365'}, {'NAME': 'Census Tract 103.66, Ada County, Idaho', 'C17002_001E': 3579.0, 'C17002_002E': 89.0, 'C17002_003E': 61.0, 'B01003_001E': 3579.0, 'state': '16', 'county': '001', 'tract': '010366'}, {'NAME': 'Census Tract 103.67, Ada County, Idaho', 'C17002_001E': 5952.0, 'C17002_002E': 596.0, 'C17002_003E': 767.0, 'B01003_001E': 6040.0, 'state': '16', 'county': '001', 'tract': '010367'}, {'NAME': 'Census Tract 103.68, Ada County, Idaho', 'C17002_001E': 3683.0, 'C17002_002E': 25.0, 'C17002_003E': 358.0, 'B01003_001E': 3695.0, 'state': '16', 'county': '001', 'tract': '010368'}, {'NAME': 'Census Tract 103.69, Ada County, Idaho', 'C17002_001E': 2518.0, 'C17002_002E': 131.0, 'C17002_003E': 134.0, 'B01003_001E': 2518.0, 'state': '16', 'county': '001', 'tract': '010369'}, {'NAME': 'Census Tract 103.70, Ada County, Idaho', 'C17002_001E': 3024.0, 'C17002_002E': 91.0, 'C17002_003E': 507.0, 'B01003_001E': 3024.0, 'state': '16', 'county': '001', 'tract': '010370'}, {'NAME': 'Census Tract 103.71, Ada County, Idaho', 'C17002_001E': 3613.0, 'C17002_002E': 90.0, 'C17002_003E': 134.0, 'B01003_001E': 3613.0, 'state': '16', 'county': '001', 'tract': '010371'}, {'NAME': 'Census Tract 104.03, Ada County, Idaho', 'C17002_001E': 4508.0, 'C17002_002E': 58.0, 'C17002_003E': 365.0, 'B01003_001E': 4508.0, 'state': '16', 'county': '001', 'tract': '010403'}, {'NAME': 'Census Tract 104.04, Ada County, Idaho', 'C17002_001E': 3982.0, 'C17002_002E': 38.0, 'C17002_003E': 181.0, 'B01003_001E': 3982.0, 'state': '16', 'county': '001', 'tract': '010404'}, {'NAME': 'Census Tract 104.05, Ada County, Idaho', 'C17002_001E': 2157.0, 'C17002_002E': 0.0, 'C17002_003E': 563.0, 'B01003_001E': 2157.0, 'state': '16', 'county': '001', 'tract': '010405'}, {'NAME': 'Census Tract 104.06, Ada County, Idaho', 'C17002_001E': 4239.0, 'C17002_002E': 16.0, 'C17002_003E': 0.0, 'B01003_001E': 4239.0, 'state': '16', 'county': '001', 'tract': '010406'}, {'NAME': 'Census Tract 104.07, Ada County, Idaho', 'C17002_001E': 5834.0, 'C17002_002E': 0.0, 'C17002_003E': 145.0, 'B01003_001E': 5834.0, 'state': '16', 'county': '001', 'tract': '010407'}, {'NAME': 'Census Tract 104.08, Ada County, Idaho', 'C17002_001E': 4447.0, 'C17002_002E': 3.0, 'C17002_003E': 109.0, 'B01003_001E': 4447.0, 'state': '16', 'county': '001', 'tract': '010408'}, {'NAME': 'Census Tract 104.09, Ada County, Idaho', 'C17002_001E': 4400.0, 'C17002_002E': 141.0, 'C17002_003E': 121.0, 'B01003_001E': 4400.0, 'state': '16', 'county': '001', 'tract': '010409'}, {'NAME': 'Census Tract 104.10, Ada County, Idaho', 'C17002_001E': 5769.0, 'C17002_002E': 266.0, 'C17002_003E': 167.0, 'B01003_001E': 5788.0, 'state': '16', 'county': '001', 'tract': '010410'}, {'NAME': 'Census Tract 104.11, Ada County, Idaho', 'C17002_001E': 3185.0, 'C17002_002E': 12.0, 'C17002_003E': 140.0, 'B01003_001E': 3208.0, 'state': '16', 'county': '001', 'tract': '010411'}, {'NAME': 'Census Tract 105.01, Ada County, Idaho', 'C17002_001E': 2675.0, 'C17002_002E': 35.0, 'C17002_003E': 120.0, 'B01003_001E': 6002.0, 'state': '16', 'county': '001', 'tract': '010501'}, {'NAME': 'Census Tract 105.03, Ada County, Idaho', 'C17002_001E': 4723.0, 'C17002_002E': 107.0, 'C17002_003E': 65.0, 'B01003_001E': 4731.0, 'state': '16', 'county': '001', 'tract': '010503'}, {'NAME': 'Census Tract 105.05, Ada County, Idaho', 'C17002_001E': 2376.0, 'C17002_002E': 77.0, 'C17002_003E': 179.0, 'B01003_001E': 2376.0, 'state': '16', 'county': '001', 'tract': '010505'}, {'NAME': 'Census Tract 105.06, Ada County, Idaho', 'C17002_001E': 4190.0, 'C17002_002E': 259.0, 'C17002_003E': 87.0, 'B01003_001E': 4237.0, 'state': '16', 'county': '001', 'tract': '010506'}]\n"
     ]
    }
   ],
   "source": [
    "print(id_census)"
   ]
  },
  {
   "cell_type": "code",
   "execution_count": 0,
   "metadata": {
    "application/vnd.databricks.v1+cell": {
     "cellMetadata": {
      "byteLimit": 2048000,
      "rowLimit": 10000
     },
     "inputWidgets": {},
     "nuid": "08a9bd8d-75d3-4cc1-8d88-6be3323b25c2",
     "showTitle": false,
     "tableResultSettingsMap": {},
     "title": ""
    }
   },
   "outputs": [],
   "source": [
    "df = spark.createDataFrame(id_census)\n",
    "\n",
    "# Because of the format that the census data comes over in (a list of dictionaries), it is much easier to adjust the datatypes and rename the columns after the dataframe is created\n",
    "df = df.select(\n",
    "    df[\"NAME\"].alias(\"geo_name\"),\n",
    "    df[\"C17002_001E\"].cast(DoubleType()).alias(\"total_poverty_count\"),\n",
    "    df[\"C17002_002E\"].cast(DoubleType()).alias(\"income_below_poverty\"),\n",
    "    df[\"C17002_003E\"].cast(DoubleType()).alias(\"income_1_to_1.24_poverty\"),\n",
    "    df[\"B01003_001E\"].cast(DoubleType()).alias(\"total_population\")\n",
    ")"
   ]
  },
  {
   "cell_type": "code",
   "execution_count": 0,
   "metadata": {
    "application/vnd.databricks.v1+cell": {
     "cellMetadata": {
      "byteLimit": 2048000,
      "rowLimit": 10000
     },
     "inputWidgets": {},
     "nuid": "3c2f2594-e04c-4695-b4cc-9794d5636338",
     "showTitle": false,
     "tableResultSettingsMap": {},
     "title": ""
    }
   },
   "outputs": [
    {
     "output_type": "stream",
     "name": "stdout",
     "output_type": "stream",
     "text": [
      "[('geo_name', 'string'), ('total_poverty_count', 'double'), ('income_below_poverty', 'double'), ('income_1_to_1.24_poverty', 'double'), ('total_population', 'double')]\n"
     ]
    },
    {
     "output_type": "display_data",
     "data": {
      "text/html": [
       "<style scoped>\n",
       "  .table-result-container {\n",
       "    max-height: 300px;\n",
       "    overflow: auto;\n",
       "  }\n",
       "  table, th, td {\n",
       "    border: 1px solid black;\n",
       "    border-collapse: collapse;\n",
       "  }\n",
       "  th, td {\n",
       "    padding: 5px;\n",
       "  }\n",
       "  th {\n",
       "    text-align: left;\n",
       "  }\n",
       "</style><div class='table-result-container'><table class='table-result'><thead style='background-color: white'><tr><th>geo_name</th><th>total_poverty_count</th><th>income_below_poverty</th><th>income_1_to_1.24_poverty</th><th>total_population</th></tr></thead><tbody><tr><td>Census Tract 9714.01, Bonneville County, Idaho</td><td>3547.0</td><td>134.0</td><td>217.0</td><td>3680.0</td></tr><tr><td>Census Tract 9714.02, Bonneville County, Idaho</td><td>5876.0</td><td>48.0</td><td>225.0</td><td>5885.0</td></tr><tr><td>Census Tract 9715, Bonneville County, Idaho</td><td>1868.0</td><td>29.0</td><td>17.0</td><td>1868.0</td></tr><tr><td>Census Tract 9701, Boundary County, Idaho</td><td>7324.0</td><td>390.0</td><td>1069.0</td><td>7376.0</td></tr><tr><td>Census Tract 9702, Boundary County, Idaho</td><td>4717.0</td><td>652.0</td><td>345.0</td><td>4780.0</td></tr><tr><td>Census Tract 9701, Butte County, Idaho</td><td>2562.0</td><td>249.0</td><td>298.0</td><td>2603.0</td></tr><tr><td>Census Tract 9701, Camas County, Idaho</td><td>1069.0</td><td>14.0</td><td>118.0</td><td>1069.0</td></tr><tr><td>Census Tract 201, Canyon County, Idaho</td><td>1140.0</td><td>139.0</td><td>171.0</td><td>1210.0</td></tr><tr><td>Census Tract 202, Canyon County, Idaho</td><td>5108.0</td><td>268.0</td><td>892.0</td><td>5108.0</td></tr><tr><td>Census Tract 203, Canyon County, Idaho</td><td>4631.0</td><td>228.0</td><td>1100.0</td><td>4631.0</td></tr></tbody></table></div>"
      ]
     },
     "metadata": {
      "application/vnd.databricks.v1+output": {
       "addedWidgets": {},
       "aggData": [],
       "aggError": "",
       "aggOverflow": false,
       "aggSchema": [],
       "aggSeriesLimitReached": false,
       "aggType": "",
       "arguments": {},
       "columnCustomDisplayInfos": {},
       "data": [
        [
         "Census Tract 9714.01, Bonneville County, Idaho",
         3547.0,
         134.0,
         217.0,
         3680.0
        ],
        [
         "Census Tract 9714.02, Bonneville County, Idaho",
         5876.0,
         48.0,
         225.0,
         5885.0
        ],
        [
         "Census Tract 9715, Bonneville County, Idaho",
         1868.0,
         29.0,
         17.0,
         1868.0
        ],
        [
         "Census Tract 9701, Boundary County, Idaho",
         7324.0,
         390.0,
         1069.0,
         7376.0
        ],
        [
         "Census Tract 9702, Boundary County, Idaho",
         4717.0,
         652.0,
         345.0,
         4780.0
        ],
        [
         "Census Tract 9701, Butte County, Idaho",
         2562.0,
         249.0,
         298.0,
         2603.0
        ],
        [
         "Census Tract 9701, Camas County, Idaho",
         1069.0,
         14.0,
         118.0,
         1069.0
        ],
        [
         "Census Tract 201, Canyon County, Idaho",
         1140.0,
         139.0,
         171.0,
         1210.0
        ],
        [
         "Census Tract 202, Canyon County, Idaho",
         5108.0,
         268.0,
         892.0,
         5108.0
        ],
        [
         "Census Tract 203, Canyon County, Idaho",
         4631.0,
         228.0,
         1100.0,
         4631.0
        ]
       ],
       "datasetInfos": [],
       "dbfsResultPath": null,
       "isJsonSchema": true,
       "metadata": {},
       "overflow": false,
       "plotOptions": {
        "customPlotOptions": {},
        "displayType": "table",
        "pivotAggregation": null,
        "pivotColumns": null,
        "xColumns": null,
        "yColumns": null
       },
       "removedWidgets": [],
       "schema": [
        {
         "metadata": "{}",
         "name": "geo_name",
         "type": "\"string\""
        },
        {
         "metadata": "{}",
         "name": "total_poverty_count",
         "type": "\"double\""
        },
        {
         "metadata": "{}",
         "name": "income_below_poverty",
         "type": "\"double\""
        },
        {
         "metadata": "{}",
         "name": "income_1_to_1.24_poverty",
         "type": "\"double\""
        },
        {
         "metadata": "{}",
         "name": "total_population",
         "type": "\"double\""
        }
       ],
       "type": "table"
      }
     },
     "output_type": "display_data"
    }
   ],
   "source": [
    "print(df.dtypes)\n",
    "\n",
    "df.limit(10).display()"
   ]
  }
 ],
 "metadata": {
  "application/vnd.databricks.v1+notebook": {
   "computePreferences": null,
   "dashboards": [],
   "environmentMetadata": {
    "base_environment": "",
    "client": "1"
   },
   "language": "python",
   "notebookMetadata": {
    "pythonIndentUnit": 4
   },
   "notebookName": "Levi - SchemaDevo",
   "widgets": {}
  }
 },
 "nbformat": 4,
 "nbformat_minor": 0
}

{
 "cells": [
  {
   "cell_type": "code",
   "execution_count": 0,
   "metadata": {
    "application/vnd.databricks.v1+cell": {
     "cellMetadata": {
      "byteLimit": 2048000,
      "rowLimit": 10000
     },
     "inputWidgets": {},
     "nuid": "e3502466-b298-4239-9711-d21c2230bb15",
     "showTitle": false,
     "tableResultSettingsMap": {},
     "title": ""
    }
   },
   "outputs": [
    {
     "output_type": "stream",
     "name": "stdout",
     "output_type": "stream",
     "text": [
      "Collecting census\r\n  Downloading census-0.8.23-py3-none-any.whl (11 kB)\r\nRequirement already satisfied: requests>=1.1.0 in /databricks/python3/lib/python3.10/site-packages (from census) (2.28.1)\r\nRequirement already satisfied: charset-normalizer<3,>=2 in /databricks/python3/lib/python3.10/site-packages (from requests>=1.1.0->census) (2.0.4)\r\nRequirement already satisfied: idna<4,>=2.5 in /databricks/python3/lib/python3.10/site-packages (from requests>=1.1.0->census) (3.3)\r\nRequirement already satisfied: urllib3<1.27,>=1.21.1 in /databricks/python3/lib/python3.10/site-packages (from requests>=1.1.0->census) (1.26.11)\r\nRequirement already satisfied: certifi>=2017.4.17 in /databricks/python3/lib/python3.10/site-packages (from requests>=1.1.0->census) (2022.9.14)\r\nInstalling collected packages: census\r\nSuccessfully installed census-0.8.23\r\n\r\n\u001B[1m[\u001B[0m\u001B[34;49mnotice\u001B[0m\u001B[1;39;49m]\u001B[0m\u001B[39;49m A new release of pip available: \u001B[0m\u001B[31;49m22.2.2\u001B[0m\u001B[39;49m -> \u001B[0m\u001B[32;49m25.0.1\u001B[0m\r\n\u001B[1m[\u001B[0m\u001B[34;49mnotice\u001B[0m\u001B[1;39;49m]\u001B[0m\u001B[39;49m To update, run: \u001B[0m\u001B[32;49mpip install --upgrade pip\u001B[0m\r\nCollecting us\r\n  Downloading us-3.2.0-py3-none-any.whl (13 kB)\r\nCollecting jellyfish\r\n  Downloading jellyfish-1.1.3-cp310-cp310-manylinux_2_17_x86_64.manylinux2014_x86_64.whl (347 kB)\r\n\u001B[?25l     \u001B[90m━━━━━━━━━━━━━━━━━━━━━━━━━━━━━━━━━━━━━━━━\u001B[0m \u001B[32m0.0/347.4 kB\u001B[0m \u001B[31m?\u001B[0m eta \u001B[36m-:--:--\u001B[0m\r\u001B[2K     \u001B[91m━━━━━━━━━━━━━━━━━━━━━\u001B[0m\u001B[91m╸\u001B[0m\u001B[90m━━━━━━━━━━━━━━━━━\u001B[0m \u001B[32m194.6/347.4 kB\u001B[0m \u001B[31m6.1 MB/s\u001B[0m eta \u001B[36m0:00:01\u001B[0m\r\u001B[2K     \u001B[90m━━━━━━━━━━━━━━━━━━━━━━━━━━━━━━━━━━━━━━━\u001B[0m \u001B[32m347.4/347.4 kB\u001B[0m \u001B[31m6.0 MB/s\u001B[0m eta \u001B[36m0:00:00\u001B[0m\r\n\u001B[?25hInstalling collected packages: jellyfish, us\r\nSuccessfully installed jellyfish-1.1.3 us-3.2.0\r\n\r\n\u001B[1m[\u001B[0m\u001B[34;49mnotice\u001B[0m\u001B[1;39;49m]\u001B[0m\u001B[39;49m A new release of pip available: \u001B[0m\u001B[31;49m22.2.2\u001B[0m\u001B[39;49m -> \u001B[0m\u001B[32;49m25.0.1\u001B[0m\r\n\u001B[1m[\u001B[0m\u001B[34;49mnotice\u001B[0m\u001B[1;39;49m]\u001B[0m\u001B[39;49m To update, run: \u001B[0m\u001B[32;49mpip install --upgrade pip\u001B[0m\r\n"
     ]
    }
   ],
   "source": [
    "!pip install census\n",
    "!pip install us"
   ]
  },
  {
   "cell_type": "code",
   "execution_count": 0,
   "metadata": {
    "application/vnd.databricks.v1+cell": {
     "cellMetadata": {
      "byteLimit": 2048000,
      "rowLimit": 10000
     },
     "inputWidgets": {},
     "nuid": "c9bcf9c0-33bc-455f-b694-a23c1af65c7b",
     "showTitle": false,
     "tableResultSettingsMap": {},
     "title": ""
    }
   },
   "outputs": [],
   "source": [
    "from census import Census\n",
    "from us import states\n",
    "from pyspark.sql.types import *"
   ]
  },
  {
   "cell_type": "markdown",
   "metadata": {
    "application/vnd.databricks.v1+cell": {
     "cellMetadata": {
      "byteLimit": 2048000,
      "rowLimit": 10000
     },
     "inputWidgets": {},
     "nuid": "c8b1ec8b-c178-4be6-8f65-81ff95d3ab28",
     "showTitle": false,
     "tableResultSettingsMap": {},
     "title": ""
    }
   },
   "source": [
    "\n",
    "## Step 1. Initialize census library with your API key"
   ]
  },
  {
   "cell_type": "code",
   "execution_count": 0,
   "metadata": {
    "application/vnd.databricks.v1+cell": {
     "cellMetadata": {
      "byteLimit": 2048000,
      "rowLimit": 10000
     },
     "inputWidgets": {},
     "nuid": "b3c4a602-964b-4606-b6c1-592676e2aebd",
     "showTitle": false,
     "tableResultSettingsMap": {},
     "title": ""
    }
   },
   "outputs": [],
   "source": [
    "# Fill in your key below...\n",
    "c = Census('<key here>', year=2020)"
   ]
  },
  {
   "cell_type": "markdown",
   "metadata": {
    "application/vnd.databricks.v1+cell": {
     "cellMetadata": {
      "byteLimit": 2048000,
      "rowLimit": 10000
     },
     "inputWidgets": {},
     "nuid": "3fe2a505-edec-4ecf-af77-52247c91753c",
     "showTitle": false,
     "tableResultSettingsMap": {},
     "title": ""
    }
   },
   "source": [
    "\n",
    "## Step 2. Choose three census variables to pull\n",
    "\n",
    "Pull census data only for the state of Idaho for now. Variables are listed here: https://api.census.gov/data/2020/acs/acs5/variables.html\n"
   ]
  },
  {
   "cell_type": "code",
   "execution_count": 0,
   "metadata": {
    "application/vnd.databricks.v1+cell": {
     "cellMetadata": {
      "byteLimit": 2048000,
      "rowLimit": 10000
     },
     "inputWidgets": {},
     "nuid": "c6e4b68a-3d85-46d3-9a1f-c97ed996b865",
     "showTitle": false,
     "tableResultSettingsMap": {},
     "title": ""
    }
   },
   "outputs": [
    {
     "output_type": "stream",
     "name": "stdout",
     "output_type": "stream",
     "text": [
      "{'NAME': 'Census Tract 9714.01, Bonneville County, Idaho', 'C17002_001E': 3547.0, 'C17002_002E': 134.0, 'C17002_003E': 217.0, 'B01003_001E': 3680.0, 'state': '16', 'county': '019', 'tract': '971401'}\n"
     ]
    }
   ],
   "source": [
    "id_census = c.acs5.state_county_tract(\n",
    "    # Remove the example field below and add your own\n",
    "    fields = ('C17002_001E'),\n",
    "    state_fips = states.ID.fips,\n",
    "    county_fips = \"*\",\n",
    "    tract = \"*\",\n",
    "    year = 2020)\n",
    "\n",
    "print(id_census[0]) # Print the first row of the census data"
   ]
  },
  {
   "cell_type": "markdown",
   "metadata": {
    "application/vnd.databricks.v1+cell": {
     "cellMetadata": {
      "byteLimit": 2048000,
      "rowLimit": 10000
     },
     "inputWidgets": {},
     "nuid": "a253169a-f3e3-4c99-8b8b-9c4b1438529a",
     "showTitle": false,
     "tableResultSettingsMap": {},
     "title": ""
    }
   },
   "source": [
    "\n",
    "### Step 3. Cast columns to the correct datatype\n",
    "\n",
    "Note what datatype your chosen variables should be (under '_Predicate Type_' in the census variables table). Build a schema with this information.\n",
    "\n",
    "Then use `.cast()` to set the datatype correctly and `.alias()` to give the column a human-readable name."
   ]
  },
  {
   "cell_type": "code",
   "execution_count": 0,
   "metadata": {
    "application/vnd.databricks.v1+cell": {
     "cellMetadata": {
      "byteLimit": 2048000,
      "rowLimit": 10000
     },
     "inputWidgets": {},
     "nuid": "08a9bd8d-75d3-4cc1-8d88-6be3323b25c2",
     "showTitle": false,
     "tableResultSettingsMap": {},
     "title": ""
    }
   },
   "outputs": [],
   "source": [
    "# First step, define structFields for your variables\n",
    "schema = StructType([\n",
    "    # Your code here...\n",
    "])\n",
    "\n",
    "df = spark.createDataFrame(id_census, schema=schema)\n",
    "\n",
    "# Second step, select, cast, and alias your fields\n",
    "df = df.select(\n",
    "    # Your code here...\n",
    ")"
   ]
  },
  {
   "cell_type": "code",
   "execution_count": 0,
   "metadata": {
    "application/vnd.databricks.v1+cell": {
     "cellMetadata": {
      "byteLimit": 2048000,
      "rowLimit": 10000
     },
     "inputWidgets": {},
     "nuid": "3c2f2594-e04c-4695-b4cc-9794d5636338",
     "showTitle": false,
     "tableResultSettingsMap": {},
     "title": ""
    }
   },
   "outputs": [
    {
     "output_type": "stream",
     "name": "stdout",
     "output_type": "stream",
     "text": [
      "[('geo_name', 'string'), ('total_poverty_count', 'int'), ('income_below_poverty', 'int'), ('income_1_to_1.24_poverty', 'int'), ('total_population', 'int')]\n"
     ]
    },
    {
     "output_type": "display_data",
     "data": {
      "text/html": [
       "<style scoped>\n",
       "  .table-result-container {\n",
       "    max-height: 300px;\n",
       "    overflow: auto;\n",
       "  }\n",
       "  table, th, td {\n",
       "    border: 1px solid black;\n",
       "    border-collapse: collapse;\n",
       "  }\n",
       "  th, td {\n",
       "    padding: 5px;\n",
       "  }\n",
       "  th {\n",
       "    text-align: left;\n",
       "  }\n",
       "</style><div class='table-result-container'><table class='table-result'><thead style='background-color: white'><tr><th>geo_name</th><th>total_poverty_count</th><th>income_below_poverty</th><th>income_1_to_1.24_poverty</th><th>total_population</th></tr></thead><tbody><tr><td>Census Tract 9714.01, Bonneville County, Idaho</td><td>3547</td><td>134</td><td>217</td><td>3680</td></tr><tr><td>Census Tract 9714.02, Bonneville County, Idaho</td><td>5876</td><td>48</td><td>225</td><td>5885</td></tr><tr><td>Census Tract 9715, Bonneville County, Idaho</td><td>1868</td><td>29</td><td>17</td><td>1868</td></tr><tr><td>Census Tract 9701, Boundary County, Idaho</td><td>7324</td><td>390</td><td>1069</td><td>7376</td></tr><tr><td>Census Tract 9702, Boundary County, Idaho</td><td>4717</td><td>652</td><td>345</td><td>4780</td></tr><tr><td>Census Tract 9701, Butte County, Idaho</td><td>2562</td><td>249</td><td>298</td><td>2603</td></tr><tr><td>Census Tract 9701, Camas County, Idaho</td><td>1069</td><td>14</td><td>118</td><td>1069</td></tr><tr><td>Census Tract 201, Canyon County, Idaho</td><td>1140</td><td>139</td><td>171</td><td>1210</td></tr><tr><td>Census Tract 202, Canyon County, Idaho</td><td>5108</td><td>268</td><td>892</td><td>5108</td></tr><tr><td>Census Tract 203, Canyon County, Idaho</td><td>4631</td><td>228</td><td>1100</td><td>4631</td></tr></tbody></table></div>"
      ]
     },
     "metadata": {
      "application/vnd.databricks.v1+output": {
       "addedWidgets": {},
       "aggData": [],
       "aggError": "",
       "aggOverflow": false,
       "aggSchema": [],
       "aggSeriesLimitReached": false,
       "aggType": "",
       "arguments": {},
       "columnCustomDisplayInfos": {},
       "data": [
        [
         "Census Tract 9714.01, Bonneville County, Idaho",
         3547,
         134,
         217,
         3680
        ],
        [
         "Census Tract 9714.02, Bonneville County, Idaho",
         5876,
         48,
         225,
         5885
        ],
        [
         "Census Tract 9715, Bonneville County, Idaho",
         1868,
         29,
         17,
         1868
        ],
        [
         "Census Tract 9701, Boundary County, Idaho",
         7324,
         390,
         1069,
         7376
        ],
        [
         "Census Tract 9702, Boundary County, Idaho",
         4717,
         652,
         345,
         4780
        ],
        [
         "Census Tract 9701, Butte County, Idaho",
         2562,
         249,
         298,
         2603
        ],
        [
         "Census Tract 9701, Camas County, Idaho",
         1069,
         14,
         118,
         1069
        ],
        [
         "Census Tract 201, Canyon County, Idaho",
         1140,
         139,
         171,
         1210
        ],
        [
         "Census Tract 202, Canyon County, Idaho",
         5108,
         268,
         892,
         5108
        ],
        [
         "Census Tract 203, Canyon County, Idaho",
         4631,
         228,
         1100,
         4631
        ]
       ],
       "datasetInfos": [],
       "dbfsResultPath": null,
       "isJsonSchema": true,
       "metadata": {},
       "overflow": false,
       "plotOptions": {
        "customPlotOptions": {},
        "displayType": "table",
        "pivotAggregation": null,
        "pivotColumns": null,
        "xColumns": null,
        "yColumns": null
       },
       "removedWidgets": [],
       "schema": [
        {
         "metadata": "{}",
         "name": "geo_name",
         "type": "\"string\""
        },
        {
         "metadata": "{}",
         "name": "total_poverty_count",
         "type": "\"integer\""
        },
        {
         "metadata": "{}",
         "name": "income_below_poverty",
         "type": "\"integer\""
        },
        {
         "metadata": "{}",
         "name": "income_1_to_1.24_poverty",
         "type": "\"integer\""
        },
        {
         "metadata": "{}",
         "name": "total_population",
         "type": "\"integer\""
        }
       ],
       "type": "table"
      }
     },
     "output_type": "display_data"
    }
   ],
   "source": [
    "print(df.dtypes)\n",
    "\n",
    "df.limit(10).display()"
   ]
  }
 ],
 "metadata": {
  "application/vnd.databricks.v1+notebook": {
   "computePreferences": null,
   "dashboards": [],
   "environmentMetadata": {
    "base_environment": "",
    "environment_version": "1"
   },
   "inputWidgetPreferences": null,
   "language": "python",
   "notebookMetadata": {
    "pythonIndentUnit": 4
   },
   "notebookName": "Levi - SchemaDevo",
   "widgets": {}
  }
 },
 "nbformat": 4,
 "nbformat_minor": 0
}
